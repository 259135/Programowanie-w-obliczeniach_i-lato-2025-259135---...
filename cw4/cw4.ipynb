{
 "metadata": {
  "kernelspec": {
   "name": "python",
   "display_name": "Python (Pyodide)",
   "language": "python"
  },
  "language_info": {
   "codemirror_mode": {
    "name": "python",
    "version": 3
   },
   "file_extension": ".py",
   "mimetype": "text/x-python",
   "name": "python",
   "nbconvert_exporter": "python",
   "pygments_lexer": "ipython3",
   "version": "3.8"
  }
 },
 "nbformat_minor": 5,
 "nbformat": 4,
 "cells": [
  {
   "id": "6eb48d91-162c-41b3-874c-27978484ea2a",
   "cell_type": "markdown",
   "source": "Import bibliotek",
   "metadata": {}
  },
  {
   "id": "d9dd7144-de37-4733-8ef1-fd45a06ce7f1",
   "cell_type": "code",
   "source": "import skimage.io\nimport skimage.feature\nfrom sklearn import svm\nfrom sklearn.model_selection import train_test_split\nfrom sklearn.metrics import accuracy_score, confusion_matrix\nimport numpy as np\nimport os\nimport math\nimport pandas as pd",
   "metadata": {
    "trusted": true,
    "ExecuteTime": {
     "end_time": "2025-05-11T18:55:54.509676Z",
     "start_time": "2025-05-11T18:55:53.060686Z"
    }
   },
   "outputs": [],
   "execution_count": 1
  },
  {
   "id": "a36b873e-2539-4dfc-8fe9-0c1feac9e57c",
   "cell_type": "markdown",
   "source": "Definicja funkcji próbkującej",
   "metadata": {}
  },
  {
   "id": "993234b4-6280-45f2-a4f8-9dc0b7a7970d",
   "cell_type": "code",
   "source": "#funkcja wycinająca próbki tekstur:\n# zdjęcie - tablica ndarray z odczytaną teksturą,\n# bok - długość boku próbki,\n# maxIlośćPróbek - maksymalna ilość próbek do wycięcia,\n# ścieżka - ścieżka do folderu, do którego zapisać próbki.\ndef utwórzPróbki(zdjęcie, bok, maxIlośćPróbek, ścieżka):\n    wymiary = zdjęcie.shape #pobranie wymiarów tekstury\n    ilośćX = int(wymiary[0]/bok) #ilość próbek w wymiarze X\n    ilośćY = int(wymiary[1]/bok) #ilość próbek w wymiarze Y\n\n    for i in range(0,ilośćX):#dla każdej pozycji w wym. X,\n        for j in range(0,ilośćY):#i dla każdej pozycji w wym. Y,\n            numerPróbki = j+ilośćY*i #określ numer próbki\n            #print(str(i) + \", \" + str(j))\n            temp = zdjęcie[i*bok:(i+1)*bok,j*bok:(j+1)*bok] #wytnij próbkę\n            #skimage.io.imsave(ścieżka + \"probka\" + str(numerPróbki) + \".jpg\", temp) #zapisz próbkę pod nazwą zawierającą jej numer\n            if numerPróbki+1 >= maxIlośćPróbek: # jeśli przekroczono maks. ilość próbek, przerwij wiersz\n                break\n        if numerPróbki + 1 >= maxIlośćPróbek: # i przerwij kolumny\n            break\n",
   "metadata": {
    "trusted": true,
    "ExecuteTime": {
     "end_time": "2025-05-11T18:55:54.709864Z",
     "start_time": "2025-05-11T18:55:54.696789Z"
    }
   },
   "outputs": [],
   "execution_count": 2
  },
  {
   "id": "f6cc03ea-f908-4b07-939d-3fa883ab79f2",
   "cell_type": "markdown",
   "source": "Początek analizy próbek - utworzenie ich oraz definicja żądanych parametrów do obliczenia",
   "metadata": {}
  },
  {
   "id": "73aab4dd-4bea-424c-ba0a-8606be52ec9a",
   "cell_type": "code",
   "source": "listaTekstur = [\"mebel\", \"gres\", \"tynk\"]\n\n#tworzenie próbek dla trzech tekstur\nfor s in listaTekstur:\n    tekstura = skimage.io.imread(listaTekstur[0] + \"/\" + listaTekstur[0] + \".jpg\") #odczyt tekstury\n    utwórzPróbki(tekstura, 128, 50, listaTekstur[0] + \"/\") #tworzenie tekstur\n\n#definicja parametrów analizy GLCM\nodległości = [1,3,5]\nkąty = [0,math.pi/4,math.pi/2,math.pi*3/4]\nparametry = [\"dissimilarity\", \"correlation\", \"contrast\", \"energy\", \"homogeneity\", \"ASM\"]\n\n#otwarcie pliku, do którego zostaną zapisane cechy próbek\nplik = open(\"dane.csv\", 'w')\n#zapis nagłówka\nplik.write(\"dis_1_0,dis_1_45,dis_1_90,dis_1_135,dis_3_0,dis_3_45,dis_3_90,dis_3_135,dis_5_0,dis_5_45,dis_5_90,dis_5_135,cor_1_0,cor_1_45,cor_1_90,cor_1_135,cor_3_0,cor_3_45,cor_3_90,cor_3_135,cor_5_0,cor_5_45,cor_5_90,cor_5_135,cont_1_0,cont_1_45,cont_1_90,cont_1_135,cont_3_0,cont_3_45,cont_3_90,cont_3_135,cont_5_0,cont_5_45,cont_5_90,cont_5_135,ene_1_0,ene_1_45,ene_1_90,ene_1_135,ene_3_0,ene_3_45,ene_3_90,ene_3_135,ene_5_0,ene_5_45,ene_5_90,ene_5_135,hom_1_0,hom_1_45,hom_1_90,hom_1_135,hom_3_0,hom_3_45,hom_3_90,hom_3_135,hom_5_0,hom_5_45,hom_5_90,hom_5_135,ASM_1_0,ASM_1_45,ASM_1_90,ASM_1_135,ASM_3_0,ASM_3_45,ASM_3_90,ASM_3_135,ASM_5_0,ASM_5_45,ASM_5_90,ASM_5_135,klasa\\n\")\n",
   "metadata": {
    "trusted": true,
    "ExecuteTime": {
     "end_time": "2025-05-11T18:55:56.287097Z",
     "start_time": "2025-05-11T18:55:56.183865Z"
    }
   },
   "outputs": [
    {
     "data": {
      "text/plain": [
       "666"
      ]
     },
     "execution_count": 3,
     "metadata": {},
     "output_type": "execute_result"
    }
   ],
   "execution_count": 3
  },
  {
   "id": "11cf7cf3-b6ad-41e4-8f65-7ff520e6e271",
   "cell_type": "markdown",
   "source": "Wyznaczenie cech próbek",
   "metadata": {}
  },
  {
   "id": "25ec0c4a-cf7d-4a89-966e-1e2598ae48e6",
   "cell_type": "code",
   "source": "#obliczanie cech\nfor t in listaTekstur:#dla każdej tekstury\n    for n in range(len(os.listdir(t + \"/\"))-1):#dla każdej próbki\n        próbka = skimage.io.imread(t + \"/\" + \"probka\" + str(n) + \".jpg\",as_gray=True)#odczytaj próbkę (jeśli odczytano jako odcienie szarości, typ danych to float z zakresu [0; 1])\n        próbka = próbka * 64 # przeskaluj przez UINT5_T_MAX\n        próbka = próbka.astype(np.uint8) #rzutuj na typ uint\n        P = skimage.feature.graycomatrix(próbka,odległości,kąty)# oblicz macierz zdarzeń\n\n        #dla każdej cechy\n        for p in parametry:\n            par = skimage.feature.graycoprops(P, prop=p)#wyznacz cechy próbki\n            for k in range(len(odległości)):#dla każdej odległości,\n                for l in range(len(kąty)):# i dla każdego kąta\n                    plik.write(str(par[k][l]) + \",\") #zapisz liczbę do pliku *.csv\n        plik.write(t + \"\\n\")#na koniec danych próbki dopisz etykietę klasy i przejdź do nowej linii\n\n#zamknij plik\nplik.close()",
   "metadata": {
    "trusted": true,
    "ExecuteTime": {
     "end_time": "2025-05-11T18:56:13.728445Z",
     "start_time": "2025-05-11T18:56:05.293110Z"
    }
   },
   "outputs": [],
   "execution_count": 4
  },
  {
   "id": "03f77170-3b88-4aab-a027-b2f6ec6382f2",
   "cell_type": "markdown",
   "source": "Odczyt cech, uczenie klasyfikatora, predykcja",
   "metadata": {}
  },
  {
   "id": "059de697-6429-4da9-a25d-d71d02e0b316",
   "cell_type": "code",
   "source": "#odczytaj uprzednio wygenerowany plik\nwektory = pd.read_csv(\"dane.csv\", sep=',')\n\n#rzutuj na typ np.array\nwektory = np.array(wektory)\n\n\nX = (wektory[:,:-1]).astype(\"float64\") #odcięcie etykiety danych - przygotowanie \"anonimowego\" wektora cech\nY = wektory[:,-1] # przygotowanie wektora zawierającego tylko etykiety\n\n#powołanie obiektu klasyfikatora (sklearn.svm)\nklasyfikator = svm.SVC(gamma=\"auto\")\n\n#podział próbek na zbiór treningowy i testowy przy pomocy funkcji z sklearn.model_selection. Wielkość próby treningowej to 33% całości próbek\nx_train, x_test, y_train, y_test = train_test_split(X, Y, train_size=0.33)\n\n#trenowanie klasyfikatora\nklasyfikator.fit(x_train, y_train)\n\n#predykcja\ny_pred = klasyfikator.predict(x_test)",
   "metadata": {
    "trusted": true,
    "ExecuteTime": {
     "end_time": "2025-05-11T18:56:18.409438Z",
     "start_time": "2025-05-11T18:56:18.384441Z"
    }
   },
   "outputs": [],
   "execution_count": 5
  },
  {
   "id": "4f88c6ce-27f8-4009-87b8-aaa1e08e2156",
   "cell_type": "markdown",
   "source": "Obliczenie dokładności",
   "metadata": {}
  },
  {
   "id": "226d5c3c-d14c-41af-a633-5bcff4df900f",
   "cell_type": "code",
   "source": "#obliczenie dokładności trafień\ndokładność = accuracy_score(y_test, y_pred)\nprint(dokładność)",
   "metadata": {
    "trusted": true,
    "ExecuteTime": {
     "end_time": "2025-05-11T18:56:22.743091Z",
     "start_time": "2025-05-11T18:56:22.733091Z"
    }
   },
   "outputs": [
    {
     "name": "stdout",
     "output_type": "stream",
     "text": [
      "0.9642857142857143\n"
     ]
    }
   ],
   "execution_count": 6
  },
  {
   "id": "3677a359-4f4a-4716-a3af-17fdfc5324a2",
   "cell_type": "markdown",
   "source": "Obliczenie macierzy pomyłek",
   "metadata": {}
  },
  {
   "id": "8f2f01ee-00ef-4d56-9f02-66ac4cb1ce03",
   "cell_type": "code",
   "source": "#macierz pomyłek - obliczenie przy pomocy modułu sklearn.metrics, w postaci znormalizowanej do 1\ncm = confusion_matrix(y_test, y_pred, normalize=\"true\")\nprint(cm)",
   "metadata": {
    "trusted": true,
    "ExecuteTime": {
     "end_time": "2025-05-11T18:56:24.883764Z",
     "start_time": "2025-05-11T18:56:24.868750Z"
    }
   },
   "outputs": [
    {
     "name": "stdout",
     "output_type": "stream",
     "text": [
      "[[1.  0.  0. ]\n",
      " [0.  1.  0. ]\n",
      " [0.  0.2 0.8]]\n"
     ]
    }
   ],
   "execution_count": 7
  }
 ]
}
